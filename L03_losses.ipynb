{
  "nbformat": 4,
  "nbformat_minor": 0,
  "metadata": {
    "colab": {
      "name": "L03_losses.ipynb",
      "provenance": [],
      "collapsed_sections": [],
      "authorship_tag": "ABX9TyPYJuTdY7Gh48W0l1oQSglD",
      "include_colab_link": true
    },
    "kernelspec": {
      "name": "python3",
      "display_name": "Python 3"
    }
  },
  "cells": [
    {
      "cell_type": "markdown",
      "metadata": {
        "id": "view-in-github",
        "colab_type": "text"
      },
      "source": [
        "<a href=\"https://colab.research.google.com/github/dalcimar/SI27CP---Sistemas-Inteligentes/blob/main/L03_losses.ipynb\" target=\"_parent\"><img src=\"https://colab.research.google.com/assets/colab-badge.svg\" alt=\"Open In Colab\"/></a>"
      ]
    },
    {
      "cell_type": "markdown",
      "metadata": {
        "id": "SsBUF9u7m8h1"
      },
      "source": [
        "# L03 - Model evaluation (losses)\n",
        "\n",
        "---\n",
        "\n",
        "\n",
        "- Instructor: Dalcimar Casanova (dalcimar@gmail.com)\n",
        "- Course website: https://www.dalcimar.com/disciplinas/sistemas-inteligentes\n",
        "- Github: https://github.com/dalcimar/SI27CP---Sistemas-Inteligentes"
      ]
    },
    {
      "cell_type": "code",
      "metadata": {
        "id": "_0Z-GFJJdvsy"
      },
      "source": [
        "import numpy as np\n",
        "\n",
        "from sklearn import datasets"
      ],
      "execution_count": 1,
      "outputs": []
    },
    {
      "cell_type": "markdown",
      "metadata": {
        "id": "chkGDFseeCDV"
      },
      "source": [
        "## Regression loss (MSE loss)\n",
        "\n"
      ]
    },
    {
      "cell_type": "code",
      "metadata": {
        "id": "xF-C3_Agd94v",
        "colab": {
          "base_uri": "https://localhost:8080/"
        },
        "outputId": "07d69dc0-2dd0-4302-b272-788a3de081c4"
      },
      "source": [
        "boston = datasets.load_boston()\n",
        "X = boston.data[:,:]\n",
        "y = boston.target"
      ],
      "execution_count": 2,
      "outputs": [
        {
          "output_type": "stream",
          "name": "stderr",
          "text": [
            "/usr/local/lib/python3.7/dist-packages/sklearn/utils/deprecation.py:87: FutureWarning: Function load_boston is deprecated; `load_boston` is deprecated in 1.0 and will be removed in 1.2.\n",
            "\n",
            "    The Boston housing prices dataset has an ethical problem. You can refer to\n",
            "    the documentation of this function for further details.\n",
            "\n",
            "    The scikit-learn maintainers therefore strongly discourage the use of this\n",
            "    dataset unless the purpose of the code is to study and educate about\n",
            "    ethical issues in data science and machine learning.\n",
            "\n",
            "    In this special case, you can fetch the dataset from the original\n",
            "    source::\n",
            "\n",
            "        import pandas as pd\n",
            "        import numpy as np\n",
            "\n",
            "\n",
            "        data_url = \"http://lib.stat.cmu.edu/datasets/boston\"\n",
            "        raw_df = pd.read_csv(data_url, sep=\"\\s+\", skiprows=22, header=None)\n",
            "        data = np.hstack([raw_df.values[::2, :], raw_df.values[1::2, :2]])\n",
            "        target = raw_df.values[1::2, 2]\n",
            "\n",
            "    Alternative datasets include the California housing dataset (i.e.\n",
            "    :func:`~sklearn.datasets.fetch_california_housing`) and the Ames housing\n",
            "    dataset. You can load the datasets as follows::\n",
            "\n",
            "        from sklearn.datasets import fetch_california_housing\n",
            "        housing = fetch_california_housing()\n",
            "\n",
            "    for the California housing dataset and::\n",
            "\n",
            "        from sklearn.datasets import fetch_openml\n",
            "        housing = fetch_openml(name=\"house_prices\", as_frame=True)\n",
            "\n",
            "    for the Ames housing dataset.\n",
            "    \n",
            "  warnings.warn(msg, category=FutureWarning)\n"
          ]
        }
      ]
    },
    {
      "cell_type": "code",
      "source": [
        "boston = datasets.load_diabetes()\n",
        "X = boston.data[:,:]\n",
        "y = boston.target"
      ],
      "metadata": {
        "id": "OJVoEIeZq82R"
      },
      "execution_count": 4,
      "outputs": []
    },
    {
      "cell_type": "code",
      "metadata": {
        "colab": {
          "base_uri": "https://localhost:8080/"
        },
        "id": "0DL3J2V8kYqY",
        "outputId": "d092161c-33cf-4436-e9a5-0f003fe1dfb3"
      },
      "source": [
        "print(X.shape)\n",
        "print(X[0:5,:])"
      ],
      "execution_count": 5,
      "outputs": [
        {
          "output_type": "stream",
          "name": "stdout",
          "text": [
            "(442, 10)\n",
            "[[ 0.03807591  0.05068012  0.06169621  0.02187235 -0.0442235  -0.03482076\n",
            "  -0.04340085 -0.00259226  0.01990842 -0.01764613]\n",
            " [-0.00188202 -0.04464164 -0.05147406 -0.02632783 -0.00844872 -0.01916334\n",
            "   0.07441156 -0.03949338 -0.06832974 -0.09220405]\n",
            " [ 0.08529891  0.05068012  0.04445121 -0.00567061 -0.04559945 -0.03419447\n",
            "  -0.03235593 -0.00259226  0.00286377 -0.02593034]\n",
            " [-0.08906294 -0.04464164 -0.01159501 -0.03665645  0.01219057  0.02499059\n",
            "  -0.03603757  0.03430886  0.02269202 -0.00936191]\n",
            " [ 0.00538306 -0.04464164 -0.03638469  0.02187235  0.00393485  0.01559614\n",
            "   0.00814208 -0.00259226 -0.03199144 -0.04664087]]\n"
          ]
        }
      ]
    },
    {
      "cell_type": "code",
      "metadata": {
        "colab": {
          "base_uri": "https://localhost:8080/"
        },
        "id": "13RtCU3ClH82",
        "outputId": "ce44e3fd-88af-43e3-b959-b800115ff6ed"
      },
      "source": [
        "print(y.shape)\n",
        "print(y[0:5])"
      ],
      "execution_count": 6,
      "outputs": [
        {
          "output_type": "stream",
          "name": "stdout",
          "text": [
            "(442,)\n",
            "[151.  75. 141. 206. 135.]\n"
          ]
        }
      ]
    },
    {
      "cell_type": "code",
      "source": [
        "y.dtype"
      ],
      "metadata": {
        "colab": {
          "base_uri": "https://localhost:8080/"
        },
        "id": "GkwlzSqBsGdD",
        "outputId": "93a8d065-f59d-417e-aea9-fb202c3f60a2"
      },
      "execution_count": 12,
      "outputs": [
        {
          "output_type": "execute_result",
          "data": {
            "text/plain": [
              "dtype('float64')"
            ]
          },
          "metadata": {},
          "execution_count": 12
        }
      ]
    },
    {
      "cell_type": "code",
      "metadata": {
        "id": "nTTUK3xgldGT"
      },
      "source": [
        "y_pred = np.random.randint(0, 100, y.shape)\n"
      ],
      "execution_count": 17,
      "outputs": []
    },
    {
      "cell_type": "code",
      "source": [
        "print(y_pred.shape)\n",
        "print(y_pred[0:5])"
      ],
      "metadata": {
        "colab": {
          "base_uri": "https://localhost:8080/"
        },
        "id": "lvEWI_a1r3UM",
        "outputId": "0196e173-ad9a-489c-9276-6ed8a150e200"
      },
      "execution_count": 18,
      "outputs": [
        {
          "output_type": "stream",
          "name": "stdout",
          "text": [
            "(442,)\n",
            "[67 23 74  7 31]\n"
          ]
        }
      ]
    },
    {
      "cell_type": "code",
      "metadata": {
        "colab": {
          "base_uri": "https://localhost:8080/"
        },
        "id": "J7MqYUeelkDS",
        "outputId": "62fe4596-efec-4dff-d4e0-5e29a070793c"
      },
      "source": [
        "from sklearn.metrics import mean_squared_error\n",
        "\n",
        "mean_squared_error(y, y_pred)"
      ],
      "execution_count": 19,
      "outputs": [
        {
          "output_type": "execute_result",
          "data": {
            "text/plain": [
              "17417.57918552036"
            ]
          },
          "metadata": {},
          "execution_count": 19
        }
      ]
    },
    {
      "cell_type": "code",
      "metadata": {
        "id": "hZJQz9kWl5kA"
      },
      "source": [
        "def MSE(y, y_test):\n",
        "    mse = np.sum((y - y_pred)**2)/len(y)\n",
        "    return mse"
      ],
      "execution_count": 20,
      "outputs": []
    },
    {
      "cell_type": "code",
      "source": [
        "MSE(y, y_pred)"
      ],
      "metadata": {
        "colab": {
          "base_uri": "https://localhost:8080/"
        },
        "id": "ESWBXE4mtblt",
        "outputId": "11bce9d1-e0eb-40ec-a3f6-dc3cda2ec65e"
      },
      "execution_count": 22,
      "outputs": [
        {
          "output_type": "execute_result",
          "data": {
            "text/plain": [
              "17417.57918552036"
            ]
          },
          "metadata": {},
          "execution_count": 22
        }
      ]
    }
  ]
}